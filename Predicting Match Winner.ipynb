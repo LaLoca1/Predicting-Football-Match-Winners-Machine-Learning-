{
 "cells": [
  {
   "cell_type": "markdown",
   "id": "702970e0",
   "metadata": {},
   "source": [
    "## Reading match data into DF"
   ]
  },
  {
   "cell_type": "code",
   "execution_count": null,
   "id": "261ae244",
   "metadata": {},
   "outputs": [],
   "source": [
    "import pandas as pd"
   ]
  },
  {
   "cell_type": "code",
   "execution_count": null,
   "id": "e52fc8c7",
   "metadata": {},
   "outputs": [],
   "source": [
    "matches = pd.read_csv(\"matches.csv\", index_col=0)"
   ]
  },
  {
   "cell_type": "code",
   "execution_count": null,
   "id": "5758f1a7",
   "metadata": {},
   "outputs": [],
   "source": [
    "matches.head()"
   ]
  },
  {
   "cell_type": "markdown",
   "id": "4eeb8d4e",
   "metadata": {},
   "source": [
    "## Investigating missing data"
   ]
  },
  {
   "cell_type": "code",
   "execution_count": null,
   "id": "d519ad9b",
   "metadata": {},
   "outputs": [],
   "source": [
    "matches.shape"
   ]
  },
  {
   "cell_type": "code",
   "execution_count": null,
   "id": "a961c1a9",
   "metadata": {},
   "outputs": [],
   "source": [
    "38 * 20 * 2 # how many matches there are in total"
   ]
  },
  {
   "cell_type": "code",
   "execution_count": null,
   "id": "a7e29b11",
   "metadata": {},
   "outputs": [],
   "source": [
    "matches[\"team\"].value_counts()"
   ]
  },
  {
   "cell_type": "code",
   "execution_count": null,
   "id": "dc393856",
   "metadata": {},
   "outputs": [],
   "source": [
    "matches[matches[\"team\"]] == \"Liverpool\" # turns out we are missing data for one season for Liverpool"
   ]
  },
  {
   "cell_type": "markdown",
   "id": "6a1d1f73",
   "metadata": {},
   "source": [
    "## Cleaning our data for ML"
   ]
  },
  {
   "cell_type": "code",
   "execution_count": null,
   "id": "aecae647",
   "metadata": {},
   "outputs": [],
   "source": [
    "matches.dtypes"
   ]
  },
  {
   "cell_type": "code",
   "execution_count": null,
   "id": "b346239e",
   "metadata": {},
   "outputs": [],
   "source": [
    "matches[\"date\"] = pd.to_datetime(matches[\"date\"]) "
   ]
  },
  {
   "cell_type": "code",
   "execution_count": null,
   "id": "3423d286",
   "metadata": {},
   "outputs": [],
   "source": [
    "matches"
   ]
  },
  {
   "cell_type": "markdown",
   "id": "ab7d5622",
   "metadata": {},
   "source": [
    "## Creating Predictors"
   ]
  },
  {
   "cell_type": "code",
   "execution_count": null,
   "id": "0dbca552",
   "metadata": {},
   "outputs": [],
   "source": [
    "matches[\"venue_code\"] = matches[\"venue\"].astype(\"category\").cat.codes"
   ]
  },
  {
   "cell_type": "code",
   "execution_count": null,
   "id": "c116b51b",
   "metadata": {},
   "outputs": [],
   "source": [
    "matches[\"opp_code\"] = matches[\"opponent\"].astype(\"category\").cat.codes"
   ]
  },
  {
   "cell_type": "code",
   "execution_count": null,
   "id": "55102099",
   "metadata": {},
   "outputs": [],
   "source": [
    "matches[\"hour\"] = matches[\"time\"].str.replace(\":.+\", \"\", regex=True).astype(\"int\") "
   ]
  },
  {
   "cell_type": "code",
   "execution_count": null,
   "id": "5ade5b9b",
   "metadata": {},
   "outputs": [],
   "source": [
    "matches[\"day_code\"] = matches[\"date\"].dt.dayofweek"
   ]
  },
  {
   "cell_type": "code",
   "execution_count": null,
   "id": "4a440822",
   "metadata": {},
   "outputs": [],
   "source": [
    "matches[\"target\"] = (matches[\"result\"] == \"W\").astype(\"int\")"
   ]
  },
  {
   "cell_type": "code",
   "execution_count": null,
   "id": "b29e3214",
   "metadata": {},
   "outputs": [],
   "source": [
    "matches"
   ]
  },
  {
   "cell_type": "markdown",
   "id": "68789c2e",
   "metadata": {},
   "source": [
    "## Creating the Machine Learning Model"
   ]
  },
  {
   "cell_type": "code",
   "execution_count": null,
   "id": "ffcab6bf",
   "metadata": {},
   "outputs": [],
   "source": [
    "from sklearn.ensemble import RandomForestClassifier"
   ]
  },
  {
   "cell_type": "code",
   "execution_count": null,
   "id": "38c9b166",
   "metadata": {},
   "outputs": [],
   "source": [
    "rf = RandomForestClassifier(n_estimators=50, min_samples_split=10, random_state=1)"
   ]
  },
  {
   "cell_type": "code",
   "execution_count": null,
   "id": "67b8b4a3",
   "metadata": {},
   "outputs": [],
   "source": [
    "train = matches[matches[\"date\"] < '2022-01-01']# data in test set comes after training set.Cant use data in future to predict past, but can do vice versa"
   ]
  },
  {
   "cell_type": "code",
   "execution_count": null,
   "id": "096619eb",
   "metadata": {},
   "outputs": [],
   "source": [
    "test = matches[matches[\"date\"] > '2022-01-01'] "
   ]
  },
  {
   "cell_type": "code",
   "execution_count": null,
   "id": "8cac9249",
   "metadata": {},
   "outputs": [],
   "source": [
    "predictors = [\"venue_code\", \"opp_code\", \"hour\", \"day_code\"]"
   ]
  },
  {
   "cell_type": "code",
   "execution_count": null,
   "id": "5bd65c5c",
   "metadata": {},
   "outputs": [],
   "source": [
    "rf.fit(train[predictors], train[\"target\"])"
   ]
  },
  {
   "cell_type": "code",
   "execution_count": null,
   "id": "3f0df107",
   "metadata": {},
   "outputs": [],
   "source": [
    "preds = rf.predict(test[predictors]) "
   ]
  },
  {
   "cell_type": "code",
   "execution_count": null,
   "id": "11194061",
   "metadata": {},
   "outputs": [],
   "source": [
    "from sklearn.metrics import accuracy_score"
   ]
  },
  {
   "cell_type": "code",
   "execution_count": null,
   "id": "18f13bd1",
   "metadata": {},
   "outputs": [],
   "source": [
    "acc = accuracy_score(test[\"target\"], preds)"
   ]
  },
  {
   "cell_type": "code",
   "execution_count": null,
   "id": "2f34c624",
   "metadata": {},
   "outputs": [],
   "source": [
    "acc"
   ]
  },
  {
   "cell_type": "code",
   "execution_count": null,
   "id": "ecca800e",
   "metadata": {},
   "outputs": [],
   "source": [
    "combined = pd.DataFrame(dict(actual=test[\"target\"], prediction=preds))"
   ]
  },
  {
   "cell_type": "code",
   "execution_count": null,
   "id": "69c3f365",
   "metadata": {},
   "outputs": [],
   "source": [
    "pd.crosstab(index=combined[\"actual\"], columns = combined[\"prediction\"]) # predicted losses more accurately compared to wins. we care about wins"
   ]
  },
  {
   "cell_type": "code",
   "execution_count": null,
   "id": "d37400b2",
   "metadata": {},
   "outputs": [],
   "source": [
    "from sklearn.metrics import precision_score"
   ]
  },
  {
   "cell_type": "code",
   "execution_count": null,
   "id": "e0490e97",
   "metadata": {},
   "outputs": [],
   "source": [
    "precision_score(test[\"target\"], preds)"
   ]
  },
  {
   "cell_type": "markdown",
   "id": "64927d29",
   "metadata": {},
   "source": [
    "## Improving precision with rolling averages"
   ]
  },
  {
   "cell_type": "code",
   "execution_count": null,
   "id": "2446fec6",
   "metadata": {},
   "outputs": [],
   "source": [
    "grouped_matches = matches.groupby(\"team\") #creates a df for every squad "
   ]
  },
  {
   "cell_type": "code",
   "execution_count": null,
   "id": "fa49a433",
   "metadata": {},
   "outputs": [],
   "source": [
    "group = grouped_matches.get_group(\"Manchester City\")"
   ]
  },
  {
   "cell_type": "code",
   "execution_count": null,
   "id": "5375299f",
   "metadata": {},
   "outputs": [],
   "source": [
    "group"
   ]
  },
  {
   "cell_type": "code",
   "execution_count": null,
   "id": "206024ce",
   "metadata": {},
   "outputs": [],
   "source": [
    "def rolling_averages(group, cols, new_cols):\n",
    "    group = group.sort_values(\"date\") \n",
    "    rolling_stats = group(cols).rolling(3, closed='left').mean() \n",
    "    group[new_cols] = rolling_stats\n",
    "    group = group.dropna(subset=new_cols) #making sure we dont pass missing values\n",
    "    return group"
   ]
  },
  {
   "cell_type": "code",
   "execution_count": null,
   "id": "4064a54f",
   "metadata": {},
   "outputs": [],
   "source": [
    "cols = [\"gf\", \"ga\", \"sh\", \"sot\", \"dist\", \"fk\", \"pk\", \"pkatt\"] \n",
    "new_cols = [f\"{c}_rolling\" for c in cols]"
   ]
  },
  {
   "cell_type": "code",
   "execution_count": null,
   "id": "602cadea",
   "metadata": {},
   "outputs": [],
   "source": [
    "new_cols"
   ]
  },
  {
   "cell_type": "code",
   "execution_count": null,
   "id": "1f44cee3",
   "metadata": {},
   "outputs": [],
   "source": [
    "rolling_averages(group, cols, new_cols)"
   ]
  },
  {
   "cell_type": "code",
   "execution_count": null,
   "id": "e429fcd9",
   "metadata": {},
   "outputs": [],
   "source": [
    "matches_rolling = matches.groupby(\"team\").apply(lambda x: rolling_averages(x, cols, new_cols))\n",
    "# apply rolling averages to each team"
   ]
  },
  {
   "cell_type": "code",
   "execution_count": null,
   "id": "2826fc50",
   "metadata": {},
   "outputs": [],
   "source": [
    "matches_rolling = matches_rolling.droplevel('team')"
   ]
  },
  {
   "cell_type": "code",
   "execution_count": null,
   "id": "45e60cb6",
   "metadata": {},
   "outputs": [],
   "source": [
    "matches_rolling"
   ]
  },
  {
   "cell_type": "markdown",
   "id": "c362ac6b",
   "metadata": {},
   "source": [
    "## Retraining out machine learning model"
   ]
  },
  {
   "cell_type": "code",
   "execution_count": null,
   "id": "fac435c5",
   "metadata": {},
   "outputs": [],
   "source": [
    "def make_predictions(data, predictors):\n",
    "    train = data[data[\"date\"] < '2022-01-01']\n",
    "    test = data[data[\"date\"] > '2022-01-01'] \n",
    "    rf.fit(train[predictors], train[\"target\"]) \n",
    "    preds = rf.predict(test[\"target\"])\n",
    "    combined = pd.DataFrame(dict(actual=test[\"target\"], predicted=preds), index=test.index)\n",
    "    precision = precision_score(test[\"target\"], preds) \n",
    "    return combined, precision "
   ]
  },
  {
   "cell_type": "code",
   "execution_count": null,
   "id": "1c22b323",
   "metadata": {},
   "outputs": [],
   "source": [
    "combined, precision = make_predictions(matches_rolling, predictors + new_cols)"
   ]
  },
  {
   "cell_type": "code",
   "execution_count": null,
   "id": "03b92bf5",
   "metadata": {},
   "outputs": [],
   "source": [
    "precision"
   ]
  },
  {
   "cell_type": "code",
   "execution_count": null,
   "id": "8c1fffa0",
   "metadata": {},
   "outputs": [],
   "source": [
    "combined = combined.merge(matches_rolling[[\"date\", \"team\", \"opponent\", \"result\"]],left_indez=True, right_index=True)"
   ]
  },
  {
   "cell_type": "code",
   "execution_count": null,
   "id": "8028d447",
   "metadata": {},
   "outputs": [],
   "source": [
    "combined"
   ]
  },
  {
   "cell_type": "markdown",
   "id": "a6a2ed5c",
   "metadata": {},
   "source": [
    "## Combining Home and Away Predictions"
   ]
  },
  {
   "cell_type": "code",
   "execution_count": null,
   "id": "642784f1",
   "metadata": {},
   "outputs": [],
   "source": [
    "class MissingDict(dict):\n",
    "    __missing__ = lambda self, key: key \n",
    "    \n",
    "map_values = {\n",
    "    \"Brighton and Hove Albion\": \"Brighton\", \n",
    "    \"Manchester United\": \"Manchester Utd\", \n",
    "    \"Newcastle United\": \"Newcastle Utd\", \n",
    "    \"Tottenham Hotspur\": \"Tottenham\", \n",
    "    \"West Ham United\": \"West Ham\", \n",
    "    \"Wolverhampton Wanderers\": \"Wolves\"\n",
    "}\n",
    "mapping = MissingDict(**map_values) "
   ]
  },
  {
   "cell_type": "code",
   "execution_count": null,
   "id": "46a64b58",
   "metadata": {},
   "outputs": [],
   "source": [
    "mapping[\"West Ham United\"]"
   ]
  },
  {
   "cell_type": "code",
   "execution_count": null,
   "id": "7245f8ee",
   "metadata": {},
   "outputs": [],
   "source": [
    "combined[\"new_team\"] = combined[\"team\"].map(mapping)"
   ]
  },
  {
   "cell_type": "code",
   "execution_count": null,
   "id": "05220398",
   "metadata": {},
   "outputs": [],
   "source": [
    "combined"
   ]
  },
  {
   "cell_type": "code",
   "execution_count": null,
   "id": "c4a19005",
   "metadata": {},
   "outputs": [],
   "source": [
    "merged = combined.merge(combined, left_on = [\"date\", \"new_team\"], right_on = [\"date\", \"opponent\"])"
   ]
  },
  {
   "cell_type": "code",
   "execution_count": null,
   "id": "e3a0bc59",
   "metadata": {},
   "outputs": [],
   "source": [
    "merged[(merged[\"predicted_x\"] == 1) & (merged[\"predicted_y\"] == 0)][\"actual_x\"].value_counts()"
   ]
  },
  {
   "cell_type": "code",
   "execution_count": null,
   "id": "bf7b8d19",
   "metadata": {},
   "outputs": [],
   "source": [
    "27 / 40 # final precision"
   ]
  }
 ],
 "metadata": {
  "kernelspec": {
   "display_name": "Python 3 (ipykernel)",
   "language": "python",
   "name": "python3"
  },
  "language_info": {
   "codemirror_mode": {
    "name": "ipython",
    "version": 3
   },
   "file_extension": ".py",
   "mimetype": "text/x-python",
   "name": "python",
   "nbconvert_exporter": "python",
   "pygments_lexer": "ipython3",
   "version": "3.9.13"
  }
 },
 "nbformat": 4,
 "nbformat_minor": 5
}
